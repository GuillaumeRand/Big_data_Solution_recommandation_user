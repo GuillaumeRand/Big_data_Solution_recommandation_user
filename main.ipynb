{
 "cells": [
  {
   "cell_type": "code",
   "execution_count": 2,
   "metadata": {},
   "outputs": [
    {
     "data": {
      "text/plain": [
       "True"
      ]
     },
     "execution_count": 2,
     "metadata": {},
     "output_type": "execute_result"
    }
   ],
   "source": [
    "import pandas as pd\n",
    "from dotenv import load_dotenv\n",
    "import numpy as np\n",
    "import matplotlib.pyplot as plt\n",
    "import matplotlib\n",
    "import os\n",
    "load_dotenv()\n"
   ]
  },
  {
   "cell_type": "markdown",
   "metadata": {},
   "source": [
    "## Import dataset"
   ]
  },
  {
   "cell_type": "code",
   "execution_count": 3,
   "metadata": {},
   "outputs": [
    {
     "data": {
      "text/html": [
       "<div>\n",
       "<style scoped>\n",
       "    .dataframe tbody tr th:only-of-type {\n",
       "        vertical-align: middle;\n",
       "    }\n",
       "\n",
       "    .dataframe tbody tr th {\n",
       "        vertical-align: top;\n",
       "    }\n",
       "\n",
       "    .dataframe thead th {\n",
       "        text-align: right;\n",
       "    }\n",
       "</style>\n",
       "<table border=\"1\" class=\"dataframe\">\n",
       "  <thead>\n",
       "    <tr style=\"text-align: right;\">\n",
       "      <th></th>\n",
       "      <th>TICKET_ID</th>\n",
       "      <th>MOIS_VENTE</th>\n",
       "      <th>PRIX_NET</th>\n",
       "      <th>FAMILLE</th>\n",
       "      <th>UNIVERS</th>\n",
       "      <th>MAILLE</th>\n",
       "      <th>LIBELLE</th>\n",
       "      <th>CLI_ID</th>\n",
       "    </tr>\n",
       "  </thead>\n",
       "  <tbody>\n",
       "    <tr>\n",
       "      <th>0</th>\n",
       "      <td>35592159</td>\n",
       "      <td>10</td>\n",
       "      <td>1.67</td>\n",
       "      <td>HYGIENE</td>\n",
       "      <td>HYG_DOUCHE JARDINMONDE</td>\n",
       "      <td>HYG_JDM</td>\n",
       "      <td>GD JDM4 PAMPLEMOUSSE FL 200ML</td>\n",
       "      <td>1490281</td>\n",
       "    </tr>\n",
       "    <tr>\n",
       "      <th>1</th>\n",
       "      <td>35592159</td>\n",
       "      <td>10</td>\n",
       "      <td>1.66</td>\n",
       "      <td>HYGIENE</td>\n",
       "      <td>HYG_DOUCHE JARDINMONDE</td>\n",
       "      <td>HYG_JDM</td>\n",
       "      <td>GD JDM4 PAMPLEMOUSSE FL 200ML</td>\n",
       "      <td>1490281</td>\n",
       "    </tr>\n",
       "    <tr>\n",
       "      <th>2</th>\n",
       "      <td>35592159</td>\n",
       "      <td>10</td>\n",
       "      <td>7.45</td>\n",
       "      <td>SOINS DU VISAGE</td>\n",
       "      <td>VIS_CJOUR Jeunes Specifique</td>\n",
       "      <td>VIS_JEUNE_ET_LEVRE</td>\n",
       "      <td>CR JR PARF BIO.SPE AC.SENT.50ML</td>\n",
       "      <td>1490281</td>\n",
       "    </tr>\n",
       "    <tr>\n",
       "      <th>3</th>\n",
       "      <td>35592159</td>\n",
       "      <td>10</td>\n",
       "      <td>5.95</td>\n",
       "      <td>SOINS DU VISAGE</td>\n",
       "      <td>VIS_DEMAQ AAAR</td>\n",
       "      <td>VIS_AAAR_DEMAQLOTION</td>\n",
       "      <td>EAU MICELLAIRE 3 THES FL200ML</td>\n",
       "      <td>1490281</td>\n",
       "    </tr>\n",
       "    <tr>\n",
       "      <th>4</th>\n",
       "      <td>35592159</td>\n",
       "      <td>10</td>\n",
       "      <td>1.67</td>\n",
       "      <td>HYGIENE</td>\n",
       "      <td>HYG_DOUCHE JARDINMONDE</td>\n",
       "      <td>HYG_JDM</td>\n",
       "      <td>GD JDM4 TIARE FL 200ML</td>\n",
       "      <td>1490281</td>\n",
       "    </tr>\n",
       "    <tr>\n",
       "      <th>...</th>\n",
       "      <td>...</td>\n",
       "      <td>...</td>\n",
       "      <td>...</td>\n",
       "      <td>...</td>\n",
       "      <td>...</td>\n",
       "      <td>...</td>\n",
       "      <td>...</td>\n",
       "      <td>...</td>\n",
       "    </tr>\n",
       "    <tr>\n",
       "      <th>7245517</th>\n",
       "      <td>35448190</td>\n",
       "      <td>9</td>\n",
       "      <td>2.5</td>\n",
       "      <td>SOINS DU CORPS</td>\n",
       "      <td>CORPS_SOIN DES MAINS</td>\n",
       "      <td>CORPS_HYDRA_NOURRI_ET_SOINS</td>\n",
       "      <td>SVC CR MAINS ET ONGLES T75ml</td>\n",
       "      <td>997385337</td>\n",
       "    </tr>\n",
       "    <tr>\n",
       "      <th>7245518</th>\n",
       "      <td>35448190</td>\n",
       "      <td>9</td>\n",
       "      <td>3.0</td>\n",
       "      <td>HYGIENE</td>\n",
       "      <td>HYG_DOUCHE JARDINMONDE</td>\n",
       "      <td>HYG_JDM</td>\n",
       "      <td>GD JDM4 LAVANDIN DE PROVENCE 200ML</td>\n",
       "      <td>997385337</td>\n",
       "    </tr>\n",
       "    <tr>\n",
       "      <th>7245519</th>\n",
       "      <td>36105678</td>\n",
       "      <td>12</td>\n",
       "      <td>7.9</td>\n",
       "      <td>MAQUILLAGE</td>\n",
       "      <td>MAQ_YEUX Crayons</td>\n",
       "      <td>MAQ_YEUX_CLASSIQUE</td>\n",
       "      <td>CRAYON REGARD PRUNE CN3 1.3G</td>\n",
       "      <td>997385337</td>\n",
       "    </tr>\n",
       "    <tr>\n",
       "      <th>7245520</th>\n",
       "      <td>36105678</td>\n",
       "      <td>12</td>\n",
       "      <td>11.45</td>\n",
       "      <td>MAQUILLAGE</td>\n",
       "      <td>MAQ_YEUX Mascara Elixir</td>\n",
       "      <td>MAQ_YEUX_MASCA_HG</td>\n",
       "      <td>MASCARA SOIN NOIR01 2014 CN3 9ML</td>\n",
       "      <td>997385337</td>\n",
       "    </tr>\n",
       "    <tr>\n",
       "      <th>7245521</th>\n",
       "      <td>36105678</td>\n",
       "      <td>12</td>\n",
       "      <td>4.45</td>\n",
       "      <td>MAQUILLAGE</td>\n",
       "      <td>MAQ_ONG Vernis CN</td>\n",
       "      <td>MAQ_ONGLES</td>\n",
       "      <td>VAO BRIL CERISE NOIRE113 ETE14 CN3 5,5ML</td>\n",
       "      <td>997385337</td>\n",
       "    </tr>\n",
       "  </tbody>\n",
       "</table>\n",
       "<p>7245522 rows × 8 columns</p>\n",
       "</div>"
      ],
      "text/plain": [
       "         TICKET_ID  MOIS_VENTE  PRIX_NET          FAMILLE  \\\n",
       "0         35592159          10      1.67          HYGIENE   \n",
       "1         35592159          10      1.66          HYGIENE   \n",
       "2         35592159          10      7.45  SOINS DU VISAGE   \n",
       "3         35592159          10      5.95  SOINS DU VISAGE   \n",
       "4         35592159          10      1.67          HYGIENE   \n",
       "...            ...         ...       ...              ...   \n",
       "7245517   35448190           9       2.5   SOINS DU CORPS   \n",
       "7245518   35448190           9       3.0          HYGIENE   \n",
       "7245519   36105678          12       7.9       MAQUILLAGE   \n",
       "7245520   36105678          12     11.45       MAQUILLAGE   \n",
       "7245521   36105678          12      4.45       MAQUILLAGE   \n",
       "\n",
       "                             UNIVERS                       MAILLE  \\\n",
       "0             HYG_DOUCHE JARDINMONDE                      HYG_JDM   \n",
       "1             HYG_DOUCHE JARDINMONDE                      HYG_JDM   \n",
       "2        VIS_CJOUR Jeunes Specifique           VIS_JEUNE_ET_LEVRE   \n",
       "3                     VIS_DEMAQ AAAR         VIS_AAAR_DEMAQLOTION   \n",
       "4             HYG_DOUCHE JARDINMONDE                      HYG_JDM   \n",
       "...                              ...                          ...   \n",
       "7245517         CORPS_SOIN DES MAINS  CORPS_HYDRA_NOURRI_ET_SOINS   \n",
       "7245518       HYG_DOUCHE JARDINMONDE                      HYG_JDM   \n",
       "7245519             MAQ_YEUX Crayons           MAQ_YEUX_CLASSIQUE   \n",
       "7245520      MAQ_YEUX Mascara Elixir            MAQ_YEUX_MASCA_HG   \n",
       "7245521            MAQ_ONG Vernis CN                   MAQ_ONGLES   \n",
       "\n",
       "                                          LIBELLE     CLI_ID  \n",
       "0                   GD JDM4 PAMPLEMOUSSE FL 200ML    1490281  \n",
       "1                   GD JDM4 PAMPLEMOUSSE FL 200ML    1490281  \n",
       "2                 CR JR PARF BIO.SPE AC.SENT.50ML    1490281  \n",
       "3                   EAU MICELLAIRE 3 THES FL200ML    1490281  \n",
       "4                          GD JDM4 TIARE FL 200ML    1490281  \n",
       "...                                           ...        ...  \n",
       "7245517              SVC CR MAINS ET ONGLES T75ml  997385337  \n",
       "7245518        GD JDM4 LAVANDIN DE PROVENCE 200ML  997385337  \n",
       "7245519              CRAYON REGARD PRUNE CN3 1.3G  997385337  \n",
       "7245520          MASCARA SOIN NOIR01 2014 CN3 9ML  997385337  \n",
       "7245521  VAO BRIL CERISE NOIRE113 ETE14 CN3 5,5ML  997385337  \n",
       "\n",
       "[7245522 rows x 8 columns]"
      ]
     },
     "execution_count": 3,
     "metadata": {},
     "output_type": "execute_result"
    }
   ],
   "source": [
    "DATASET_URL = os.getenv(\"DATASET_URL\")\n",
    "datasetFull = pd.read_csv(DATASET_URL)\n",
    "datasetFull.convert_dtypes()"
   ]
  },
  {
   "cell_type": "markdown",
   "metadata": {},
   "source": [
    "## Fonction de scale pour dataset panda"
   ]
  },
  {
   "cell_type": "code",
   "execution_count": 5,
   "metadata": {},
   "outputs": [],
   "source": [
    "# remove null from dataset and return a scale of dataset\n",
    "def saplte_first_prows(data, perc):\n",
    "    data.dropna(axis=0, inplace=True)\n",
    "    return data.head(int(len(data)*(perc)))"
   ]
  },
  {
   "cell_type": "code",
   "execution_count": 6,
   "metadata": {},
   "outputs": [
    {
     "data": {
      "text/html": [
       "<div>\n",
       "<style scoped>\n",
       "    .dataframe tbody tr th:only-of-type {\n",
       "        vertical-align: middle;\n",
       "    }\n",
       "\n",
       "    .dataframe tbody tr th {\n",
       "        vertical-align: top;\n",
       "    }\n",
       "\n",
       "    .dataframe thead th {\n",
       "        text-align: right;\n",
       "    }\n",
       "</style>\n",
       "<table border=\"1\" class=\"dataframe\">\n",
       "  <thead>\n",
       "    <tr style=\"text-align: right;\">\n",
       "      <th></th>\n",
       "      <th>TICKET_ID</th>\n",
       "      <th>MOIS_VENTE</th>\n",
       "      <th>PRIX_NET</th>\n",
       "      <th>FAMILLE</th>\n",
       "      <th>UNIVERS</th>\n",
       "      <th>MAILLE</th>\n",
       "      <th>LIBELLE</th>\n",
       "      <th>CLI_ID</th>\n",
       "    </tr>\n",
       "  </thead>\n",
       "  <tbody>\n",
       "    <tr>\n",
       "      <th>0</th>\n",
       "      <td>35592159</td>\n",
       "      <td>10</td>\n",
       "      <td>1.67</td>\n",
       "      <td>HYGIENE</td>\n",
       "      <td>HYG_DOUCHE JARDINMONDE</td>\n",
       "      <td>HYG_JDM</td>\n",
       "      <td>GD JDM4 PAMPLEMOUSSE FL 200ML</td>\n",
       "      <td>1490281</td>\n",
       "    </tr>\n",
       "    <tr>\n",
       "      <th>1</th>\n",
       "      <td>35592159</td>\n",
       "      <td>10</td>\n",
       "      <td>1.66</td>\n",
       "      <td>HYGIENE</td>\n",
       "      <td>HYG_DOUCHE JARDINMONDE</td>\n",
       "      <td>HYG_JDM</td>\n",
       "      <td>GD JDM4 PAMPLEMOUSSE FL 200ML</td>\n",
       "      <td>1490281</td>\n",
       "    </tr>\n",
       "    <tr>\n",
       "      <th>2</th>\n",
       "      <td>35592159</td>\n",
       "      <td>10</td>\n",
       "      <td>7.45</td>\n",
       "      <td>SOINS DU VISAGE</td>\n",
       "      <td>VIS_CJOUR Jeunes Specifique</td>\n",
       "      <td>VIS_JEUNE_ET_LEVRE</td>\n",
       "      <td>CR JR PARF BIO.SPE AC.SENT.50ML</td>\n",
       "      <td>1490281</td>\n",
       "    </tr>\n",
       "    <tr>\n",
       "      <th>3</th>\n",
       "      <td>35592159</td>\n",
       "      <td>10</td>\n",
       "      <td>5.95</td>\n",
       "      <td>SOINS DU VISAGE</td>\n",
       "      <td>VIS_DEMAQ AAAR</td>\n",
       "      <td>VIS_AAAR_DEMAQLOTION</td>\n",
       "      <td>EAU MICELLAIRE 3 THES FL200ML</td>\n",
       "      <td>1490281</td>\n",
       "    </tr>\n",
       "    <tr>\n",
       "      <th>4</th>\n",
       "      <td>35592159</td>\n",
       "      <td>10</td>\n",
       "      <td>1.67</td>\n",
       "      <td>HYGIENE</td>\n",
       "      <td>HYG_DOUCHE JARDINMONDE</td>\n",
       "      <td>HYG_JDM</td>\n",
       "      <td>GD JDM4 TIARE FL 200ML</td>\n",
       "      <td>1490281</td>\n",
       "    </tr>\n",
       "  </tbody>\n",
       "</table>\n",
       "</div>"
      ],
      "text/plain": [
       "   TICKET_ID  MOIS_VENTE  PRIX_NET          FAMILLE  \\\n",
       "0   35592159          10      1.67          HYGIENE   \n",
       "1   35592159          10      1.66          HYGIENE   \n",
       "2   35592159          10      7.45  SOINS DU VISAGE   \n",
       "3   35592159          10      5.95  SOINS DU VISAGE   \n",
       "4   35592159          10      1.67          HYGIENE   \n",
       "\n",
       "                       UNIVERS                MAILLE  \\\n",
       "0       HYG_DOUCHE JARDINMONDE               HYG_JDM   \n",
       "1       HYG_DOUCHE JARDINMONDE               HYG_JDM   \n",
       "2  VIS_CJOUR Jeunes Specifique    VIS_JEUNE_ET_LEVRE   \n",
       "3               VIS_DEMAQ AAAR  VIS_AAAR_DEMAQLOTION   \n",
       "4       HYG_DOUCHE JARDINMONDE               HYG_JDM   \n",
       "\n",
       "                           LIBELLE   CLI_ID  \n",
       "0    GD JDM4 PAMPLEMOUSSE FL 200ML  1490281  \n",
       "1    GD JDM4 PAMPLEMOUSSE FL 200ML  1490281  \n",
       "2  CR JR PARF BIO.SPE AC.SENT.50ML  1490281  \n",
       "3    EAU MICELLAIRE 3 THES FL200ML  1490281  \n",
       "4           GD JDM4 TIARE FL 200ML  1490281  "
      ]
     },
     "execution_count": 6,
     "metadata": {},
     "output_type": "execute_result"
    }
   ],
   "source": [
    "\n",
    "df = saplte_first_prows(datasetFull, 1)\n",
    "\n",
    "df.head()"
   ]
  },
  {
   "cell_type": "markdown",
   "metadata": {},
   "source": [
    "## Nombre de tuple du dataset avant scale"
   ]
  },
  {
   "cell_type": "code",
   "execution_count": 7,
   "metadata": {},
   "outputs": [
    {
     "data": {
      "text/plain": [
       "(7245522, 8)"
      ]
     },
     "execution_count": 7,
     "metadata": {},
     "output_type": "execute_result"
    }
   ],
   "source": [
    "datasetFull.shape"
   ]
  },
  {
   "cell_type": "markdown",
   "metadata": {},
   "source": [
    "## Nombre de tuple du dataset scale"
   ]
  },
  {
   "cell_type": "code",
   "execution_count": 8,
   "metadata": {},
   "outputs": [
    {
     "data": {
      "text/plain": [
       "(7245522, 8)"
      ]
     },
     "execution_count": 8,
     "metadata": {},
     "output_type": "execute_result"
    }
   ],
   "source": [
    "df.shape"
   ]
  },
  {
   "cell_type": "markdown",
   "metadata": {},
   "source": [
    "## Nombre de clients, produits, tickets"
   ]
  },
  {
   "cell_type": "code",
   "execution_count": 94,
   "metadata": {},
   "outputs": [],
   "source": [
    "def plotNumber(labels, values, colors=['tab:red', 'tab:blue', 'tab:orange']):\n",
    "    fig, ax = plt.subplots()\n",
    "\n",
    "    # ax.bar(labels, values, color=colors)\n",
    "    # ax.bar(labels, values, label=labels, color=colors)\n",
    "    \n",
    "    p1 = ax.bar(labels, values, 0.35, color=colors)\n",
    "    ax.bar_label(p1, label_type='center')\n",
    "\n",
    "    ax.set_ylabel('Quantité (Milliers)')\n",
    "    ax.get_yaxis().set_major_formatter(matplotlib.ticker.FuncFormatter(lambda x, p: format(int(x)/1000, ',')))\n",
    "    # ax.set_title('Fruit supply by kind and color')\n",
    "    # ax.legend(title='Couleur label')\n",
    "\n",
    "    plt.show()"
   ]
  },
  {
   "cell_type": "code",
   "execution_count": 95,
   "metadata": {},
   "outputs": [
    {
     "name": "stdout",
     "output_type": "stream",
     "text": [
      "1484\n"
     ]
    },
    {
     "data": {
      "image/png": "[encoded data removed]",
      "text/plain": [
       "<Figure size 640x480 with 1 Axes>"
      ]
     },
     "metadata": {},
     "output_type": "display_data"
    }
   ],
   "source": [
    "nbClient = len(df['CLI_ID'].unique())\n",
    "nbTicket = len(df['TICKET_ID'].unique())\n",
    "nbProduit = len(df['LIBELLE'].unique())\n",
    "nbFamille = len(df['FAMILLE'].unique())\n",
    "\n",
    "\n",
    "labels = ['clients', 'tickets']\n",
    "values = [nbClient, nbTicket]\n",
    "plotNumber(labels=['clients', 'commandes', 'produits'], values=[nbClient, nbTicket, nbProduit])"
   ]
  },
  {
   "cell_type": "code",
   "execution_count": 10,
   "metadata": {},
   "outputs": [],
   "source": [
    "# print('Nb client avec 1 ticket : ', len(df.groupby(['CLI_ID', 'TICKET_ID']).filter(lambda x: len(x) == 1)))\n",
    "# print('Nb client avec 2 tickets : ', len(df.groupby(['CLI_ID', 'TICKET_ID']).filter(lambda x: len(x) == 2)))\n",
    "# print('Nb client avec 3 tickets : ', len(df.groupby(['CLI_ID', 'TICKET_ID']).filter(lambda x: len(x) == 3)))\n",
    "# print('Nb client avec 4 tickets : ', len(df.groupby(['CLI_ID', 'TICKET_ID']).filter(lambda x: len(x) == 4)))\n",
    "# print('Nb client avec 5 tickets : ', len(df.groupby(['CLI_ID', 'TICKET_ID']).filter(lambda x: len(x) == 5)))\n",
    "# print('Nb client avec 6 tickets : ', len(df.groupby(['CLI_ID', 'TICKET_ID']).filter(lambda x: len(x) == 6)))\n",
    "# print('Nb client avec 7 tickets : ', len(df.groupby(['CLI_ID', 'TICKET_ID']).filter(lambda x: len(x) == 7)))\n",
    "# print('Nb client avec 8 tickets : ', len(df.groupby(['CLI_ID', 'TICKET_ID']).filter(lambda x: len(x) == 8)))\n",
    "# print('Nb client avec 9 tickets : ', len(df.groupby(['CLI_ID', 'TICKET_ID']).filter(lambda x: len(x) == 9)))\n",
    "# print('Nb client avec 10+ tickets : ', len(df.groupby(['CLI_ID', 'TICKET_ID']).filter(lambda x: len(x) >= 10)))\n"
   ]
  },
  {
   "cell_type": "markdown",
   "metadata": {},
   "source": [
    "## Prix min, max et moyen des produits"
   ]
  },
  {
   "cell_type": "code",
   "execution_count": 11,
   "metadata": {},
   "outputs": [
    {
     "name": "stdout",
     "output_type": "stream",
     "text": [
      "Prix min :  0.01\n",
      "Prix moyen :  5.970083615783657\n",
      "Prix max :  1575.0\n",
      "Total de tout les tickets :  43256372.18000003\n"
     ]
    },
    {
     "data": {
      "text/html": [
       "<div>\n",
       "<style scoped>\n",
       "    .dataframe tbody tr th:only-of-type {\n",
       "        vertical-align: middle;\n",
       "    }\n",
       "\n",
       "    .dataframe tbody tr th {\n",
       "        vertical-align: top;\n",
       "    }\n",
       "\n",
       "    .dataframe thead th {\n",
       "        text-align: right;\n",
       "    }\n",
       "</style>\n",
       "<table border=\"1\" class=\"dataframe\">\n",
       "  <thead>\n",
       "    <tr style=\"text-align: right;\">\n",
       "      <th></th>\n",
       "      <th>TICKET_ID</th>\n",
       "      <th>MOIS_VENTE</th>\n",
       "      <th>PRIX_NET</th>\n",
       "      <th>FAMILLE</th>\n",
       "      <th>UNIVERS</th>\n",
       "      <th>MAILLE</th>\n",
       "      <th>LIBELLE</th>\n",
       "      <th>CLI_ID</th>\n",
       "    </tr>\n",
       "  </thead>\n",
       "  <tbody>\n",
       "    <tr>\n",
       "      <th>5085421</th>\n",
       "      <td>33107984</td>\n",
       "      <td>1</td>\n",
       "      <td>1575.0</td>\n",
       "      <td>PARFUMAGE</td>\n",
       "      <td>PARF_PARF ET EAU DE PARF</td>\n",
       "      <td>PARF_PARFUM</td>\n",
       "      <td>EDP EVIDENCE VAPO 100ML</td>\n",
       "      <td>990122959</td>\n",
       "    </tr>\n",
       "  </tbody>\n",
       "</table>\n",
       "</div>"
      ],
      "text/plain": [
       "         TICKET_ID  MOIS_VENTE  PRIX_NET    FAMILLE                   UNIVERS  \\\n",
       "5085421   33107984           1    1575.0  PARFUMAGE  PARF_PARF ET EAU DE PARF   \n",
       "\n",
       "              MAILLE                  LIBELLE     CLI_ID  \n",
       "5085421  PARF_PARFUM  EDP EVIDENCE VAPO 100ML  990122959  "
      ]
     },
     "execution_count": 11,
     "metadata": {},
     "output_type": "execute_result"
    }
   ],
   "source": [
    "p_min = df[\"PRIX_NET\"].min()\n",
    "p_max = df[\"PRIX_NET\"].max()\n",
    "p_moyen = df[\"PRIX_NET\"].mean()\n",
    "total = df[\"PRIX_NET\"].sum()\n",
    "\n",
    "print('Prix min : ', p_min)\n",
    "print('Prix moyen : ', p_moyen)\n",
    "print('Prix max : ', p_max)\n",
    "print('Total de tout les tickets : ', total)\n",
    "df.loc[df[\"PRIX_NET\"] == p_max]\n"
   ]
  },
  {
   "cell_type": "markdown",
   "metadata": {},
   "source": [
    "## Max, Min, Moyenne de commande par client "
   ]
  },
  {
   "cell_type": "code",
   "execution_count": 12,
   "metadata": {},
   "outputs": [
    {
     "name": "stdout",
     "output_type": "stream",
     "text": [
      "Nb de commande min :  1\n",
      "Nb de commande moyen :  8.489048802948751\n",
      "Nb de commande max :  834\n"
     ]
    }
   ],
   "source": [
    "comm_max = df[\"CLI_ID\"].value_counts().max()\n",
    "comm_min = df[\"CLI_ID\"].value_counts().min()\n",
    "comm_moyen = df[\"CLI_ID\"].value_counts().mean()\n",
    "\n",
    "print('Nb de commande min : ', comm_min)\n",
    "print('Nb de commande moyen : ', comm_moyen)\n",
    "print('Nb de commande max : ', comm_max)\n"
   ]
  },
  {
   "cell_type": "markdown",
   "metadata": {},
   "source": [
    "## Client ayant le plus dépensé"
   ]
  },
  {
   "cell_type": "code",
   "execution_count": 13,
   "metadata": {},
   "outputs": [
    {
     "data": {
      "text/html": [
       "<div>\n",
       "<style scoped>\n",
       "    .dataframe tbody tr th:only-of-type {\n",
       "        vertical-align: middle;\n",
       "    }\n",
       "\n",
       "    .dataframe tbody tr th {\n",
       "        vertical-align: top;\n",
       "    }\n",
       "\n",
       "    .dataframe thead th {\n",
       "        text-align: right;\n",
       "    }\n",
       "</style>\n",
       "<table border=\"1\" class=\"dataframe\">\n",
       "  <thead>\n",
       "    <tr style=\"text-align: right;\">\n",
       "      <th></th>\n",
       "      <th>PRIX_NET</th>\n",
       "    </tr>\n",
       "    <tr>\n",
       "      <th>CLI_ID</th>\n",
       "      <th></th>\n",
       "    </tr>\n",
       "  </thead>\n",
       "  <tbody>\n",
       "    <tr>\n",
       "      <th>967051620</th>\n",
       "      <td>13536.95</td>\n",
       "    </tr>\n",
       "  </tbody>\n",
       "</table>\n",
       "</div>"
      ],
      "text/plain": [
       "           PRIX_NET\n",
       "CLI_ID             \n",
       "967051620  13536.95"
      ]
     },
     "execution_count": 13,
     "metadata": {},
     "output_type": "execute_result"
    }
   ],
   "source": [
    "df.groupby(\"CLI_ID\").agg({\"PRIX_NET\": \"sum\"}).sort_values(by='PRIX_NET', ascending=False).head(1)"
   ]
  },
  {
   "cell_type": "markdown",
   "metadata": {},
   "source": [
    "## Commande la plus chère"
   ]
  },
  {
   "cell_type": "code",
   "execution_count": 14,
   "metadata": {},
   "outputs": [
    {
     "data": {
      "text/plain": [
       "TICKET_ID    33107984.0\n",
       "PRIX_NET         3486.0\n",
       "Name: 136287, dtype: float64"
      ]
     },
     "execution_count": 14,
     "metadata": {},
     "output_type": "execute_result"
    }
   ],
   "source": [
    "dfprix = df.groupby(\"TICKET_ID\")[\"PRIX_NET\"].sum().reset_index()\n",
    "dfprix.loc[dfprix[\"PRIX_NET\"].idxmax()]"
   ]
  },
  {
   "cell_type": "code",
   "execution_count": 15,
   "metadata": {},
   "outputs": [
    {
     "data": {
      "text/html": [
       "<div>\n",
       "<style scoped>\n",
       "    .dataframe tbody tr th:only-of-type {\n",
       "        vertical-align: middle;\n",
       "    }\n",
       "\n",
       "    .dataframe tbody tr th {\n",
       "        vertical-align: top;\n",
       "    }\n",
       "\n",
       "    .dataframe thead th {\n",
       "        text-align: right;\n",
       "    }\n",
       "</style>\n",
       "<table border=\"1\" class=\"dataframe\">\n",
       "  <thead>\n",
       "    <tr style=\"text-align: right;\">\n",
       "      <th></th>\n",
       "      <th>TICKET_ID</th>\n",
       "      <th>MOIS_VENTE</th>\n",
       "      <th>PRIX_NET</th>\n",
       "      <th>FAMILLE</th>\n",
       "      <th>UNIVERS</th>\n",
       "      <th>MAILLE</th>\n",
       "      <th>LIBELLE</th>\n",
       "      <th>CLI_ID</th>\n",
       "    </tr>\n",
       "  </thead>\n",
       "  <tbody>\n",
       "    <tr>\n",
       "      <th>5085418</th>\n",
       "      <td>33107984</td>\n",
       "      <td>1</td>\n",
       "      <td>486.0</td>\n",
       "      <td>PARFUMAGE</td>\n",
       "      <td>PARF_EAUX HOMMES</td>\n",
       "      <td>PARF_HOMME</td>\n",
       "      <td>EDT EVIDENCE HOMME  VAPO 75ML</td>\n",
       "      <td>990122959</td>\n",
       "    </tr>\n",
       "    <tr>\n",
       "      <th>5085419</th>\n",
       "      <td>33107984</td>\n",
       "      <td>1</td>\n",
       "      <td>1012.5</td>\n",
       "      <td>PARFUMAGE</td>\n",
       "      <td>PARF_PARF ET EAU DE PARF</td>\n",
       "      <td>PARF_PARFUM</td>\n",
       "      <td>2013COL 10ANS EDP50ML COMMEUNE EVIDENCE</td>\n",
       "      <td>990122959</td>\n",
       "    </tr>\n",
       "    <tr>\n",
       "      <th>5085420</th>\n",
       "      <td>33107984</td>\n",
       "      <td>1</td>\n",
       "      <td>412.5</td>\n",
       "      <td>HYGIENE</td>\n",
       "      <td>HYG_DEO PARFUMS</td>\n",
       "      <td>HYG_PARFUMEE</td>\n",
       "      <td>DEO PARFUME 100ML EVIDENCE</td>\n",
       "      <td>990122959</td>\n",
       "    </tr>\n",
       "    <tr>\n",
       "      <th>5085421</th>\n",
       "      <td>33107984</td>\n",
       "      <td>1</td>\n",
       "      <td>1575.0</td>\n",
       "      <td>PARFUMAGE</td>\n",
       "      <td>PARF_PARF ET EAU DE PARF</td>\n",
       "      <td>PARF_PARFUM</td>\n",
       "      <td>EDP EVIDENCE VAPO 100ML</td>\n",
       "      <td>990122959</td>\n",
       "    </tr>\n",
       "  </tbody>\n",
       "</table>\n",
       "</div>"
      ],
      "text/plain": [
       "         TICKET_ID  MOIS_VENTE  PRIX_NET    FAMILLE                   UNIVERS  \\\n",
       "5085418   33107984           1     486.0  PARFUMAGE          PARF_EAUX HOMMES   \n",
       "5085419   33107984           1    1012.5  PARFUMAGE  PARF_PARF ET EAU DE PARF   \n",
       "5085420   33107984           1     412.5    HYGIENE           HYG_DEO PARFUMS   \n",
       "5085421   33107984           1    1575.0  PARFUMAGE  PARF_PARF ET EAU DE PARF   \n",
       "\n",
       "               MAILLE                                  LIBELLE     CLI_ID  \n",
       "5085418    PARF_HOMME            EDT EVIDENCE HOMME  VAPO 75ML  990122959  \n",
       "5085419   PARF_PARFUM  2013COL 10ANS EDP50ML COMMEUNE EVIDENCE  990122959  \n",
       "5085420  HYG_PARFUMEE               DEO PARFUME 100ML EVIDENCE  990122959  \n",
       "5085421   PARF_PARFUM                  EDP EVIDENCE VAPO 100ML  990122959  "
      ]
     },
     "execution_count": 15,
     "metadata": {},
     "output_type": "execute_result"
    }
   ],
   "source": [
    "df.loc[df[\"TICKET_ID\"] == 33107984]"
   ]
  },
  {
   "attachments": {},
   "cell_type": "markdown",
   "metadata": {},
   "source": [
    "## CA par mois"
   ]
  },
  {
   "cell_type": "code",
   "execution_count": 96,
   "metadata": {},
   "outputs": [
    {
     "data": {
      "text/plain": [
       "MOIS_VENTE\n",
       "1     3922441.38\n",
       "2     2845321.40\n",
       "3     3200551.14\n",
       "4     3109273.54\n",
       "5     3769628.89\n",
       "6     4118695.03\n",
       "7     4209609.93\n",
       "8     2951500.23\n",
       "9     3258067.86\n",
       "10    2997736.24\n",
       "11    3485610.32\n",
       "12    5387936.22\n",
       "Name: PRIX_NET, dtype: float64"
      ]
     },
     "execution_count": 96,
     "metadata": {},
     "output_type": "execute_result"
    }
   ],
   "source": [
    "df.groupby(\"MOIS_VENTE\").agg({\"PRIX_NET\": \"sum\"})[\"PRIX_NET\"]"
   ]
  },
  {
   "cell_type": "code",
   "execution_count": 99,
   "metadata": {},
   "outputs": [
    {
     "data": {
      "image/png": "[encoded data removed]",
      "text/plain": [
       "<Figure size 640x480 with 1 Axes>"
      ]
     },
     "metadata": {},
     "output_type": "display_data"
    }
   ],
   "source": [
    "months = range(1,13)\n",
    "plt.bar(months,df.groupby(\"MOIS_VENTE\").agg({\"PRIX_NET\": \"sum\"})[\"PRIX_NET\"])\n",
    "plt.xticks(months)\n",
    "plt.ylabel('Sales in USD ($)')\n",
    "plt.xlabel('Month number')\n",
    "plt.show()"
   ]
  },
  {
   "cell_type": "markdown",
   "metadata": {},
   "source": [
    "## Nombre d'item par maille, univers, famille"
   ]
  },
  {
   "cell_type": "code",
   "execution_count": 18,
   "metadata": {},
   "outputs": [
    {
     "data": {
      "text/plain": [
       "MAILLE\n",
       "CAPILLAIRE_AUTRE                24\n",
       "CAPILLAIRE_SHAMPOING            29\n",
       "CORPS_HYDRA_NOURRI_ET_SOINS     49\n",
       "CORPS_HYDR_LAIT_HUILE           64\n",
       "CORPS_MONOI                      6\n",
       "CORPS_SPA_ET_MINCEUR            24\n",
       "DIETETIQUE                       1\n",
       "HYG_AUTRES                      18\n",
       "HYG_CULTUREBIO                   6\n",
       "HYG_HOMME                       22\n",
       "HYG_JDM                         41\n",
       "HYG_MONOI_ET_EDIT_SPEC          21\n",
       "HYG_PARFUMEE                    32\n",
       "HYG_PLAISIRNAT_BAIN_SAVON       89\n",
       "MAQ_AUTRE                       12\n",
       "MAQ_LEV_BASPRIX                 58\n",
       "MAQ_LEV_RAL_HMG                106\n",
       "MAQ_ONGLES                     119\n",
       "MAQ_TEINT                      138\n",
       "MAQ_YEUX_CLASSIQUE              72\n",
       "MAQ_YEUX_MASCA_EYEL_FARD       181\n",
       "MAQ_YEUX_MASCA_HG                6\n",
       "MULTIFAMILLES                    1\n",
       "PARF_EDT                        35\n",
       "PARF_HOMME                      10\n",
       "PARF_PARFUM                     76\n",
       "SOLAIRE                         28\n",
       "VIS_AAAR_DEMAQLOTION             9\n",
       "VIS_AAAR_HORS_DEMAQLOTION       63\n",
       "VIS_AUTRES                       8\n",
       "VIS_BIO                         11\n",
       "VIS_HOMMES                      11\n",
       "VIS_JEUNE_ET_LEVRE             100\n",
       "VIS_PUR                         14\n",
       "Name: LIBELLE, dtype: int64"
      ]
     },
     "execution_count": 18,
     "metadata": {},
     "output_type": "execute_result"
    }
   ],
   "source": [
    "df.groupby('MAILLE').LIBELLE.nunique()"
   ]
  },
  {
   "cell_type": "code",
   "execution_count": 19,
   "metadata": {},
   "outputs": [
    {
     "data": {
      "text/plain": [
       "UNIVERS\n",
       "CAP_AP SHAMP                    6\n",
       "CAP_SHAMP SPECIFIQUE           10\n",
       "CAP_SHAMP TRAITANT              4\n",
       "CAP_SHAMP TSCHEVEUX            15\n",
       "CAP_TENUE DE LA COIFFURE        6\n",
       "                               ..\n",
       "VIS_SOIN HOMMES                11\n",
       "VIS_SOIN LEVRES                30\n",
       "VIS_TRAIT AAAR                 19\n",
       "VIS_TRAIT BIO                   3\n",
       "VIS_TRAIT Jeunes Specifique    10\n",
       "Name: LIBELLE, Length: 105, dtype: int64"
      ]
     },
     "execution_count": 19,
     "metadata": {},
     "output_type": "execute_result"
    }
   ],
   "source": [
    "df.groupby('UNIVERS').LIBELLE.nunique()"
   ]
  },
  {
   "cell_type": "code",
   "execution_count": 145,
   "metadata": {},
   "outputs": [
    {
     "data": {
      "text/plain": [
       "FAMILLE\n",
       "CAPILLAIRES         53\n",
       "HYGIENE            229\n",
       "MAQUILLAGE         692\n",
       "MULTI FAMILLES       1\n",
       "PARFUMAGE          121\n",
       "SANTE NATURELLE      1\n",
       "SOINS DU CORPS     143\n",
       "SOINS DU VISAGE    216\n",
       "SOLAIRES            28\n",
       "Name: LIBELLE, dtype: int64"
      ]
     },
     "execution_count": 145,
     "metadata": {},
     "output_type": "execute_result"
    }
   ],
   "source": [
    "famille = df.groupby('FAMILLE').LIBELLE.nunique()"
   ]
  },
  {
   "cell_type": "code",
   "execution_count": 2,
   "metadata": {},
   "outputs": [
    {
     "ename": "NameError",
     "evalue": "name 'famille' is not defined",
     "output_type": "error",
     "traceback": [
      "\u001b[1;31m---------------------------------------------------------------------------\u001b[0m",
      "\u001b[1;31mNameError\u001b[0m                                 Traceback (most recent call last)",
      "Cell \u001b[1;32mIn [2], line 2\u001b[0m\n\u001b[0;32m      1\u001b[0m \u001b[39m# print(np.full_like(0, 0, shape=len(famille)))\u001b[39;00m\n\u001b[1;32m----> 2\u001b[0m famille\u001b[39m.\u001b[39mplot(kind\u001b[39m=\u001b[39m\u001b[39m'\u001b[39m\u001b[39mpie\u001b[39m\u001b[39m'\u001b[39m,\n\u001b[0;32m      3\u001b[0m             \u001b[39m# explode=[0,0,0.2,0,0,0,0,0,0],\u001b[39;00m\n\u001b[0;32m      4\u001b[0m             autopct\u001b[39m=\u001b[39m\u001b[39mlambda\u001b[39;00m x: \u001b[39m'\u001b[39m\u001b[39m{:.0f}\u001b[39;00m\u001b[39m'\u001b[39m\u001b[39m.\u001b[39mformat(x\u001b[39m*\u001b[39m((famille\u001b[39m.\u001b[39msum()\u001b[39m/\u001b[39m\u001b[39m100\u001b[39m)\u001b[39m*\u001b[39m\u001b[39m100\u001b[39m\u001b[39m/\u001b[39mfamille\u001b[39m.\u001b[39msum())) , \n\u001b[0;32m      5\u001b[0m             \u001b[39m# labeldistance = 1.8,\u001b[39;00m\n\u001b[0;32m      6\u001b[0m             shadow\u001b[39m=\u001b[39m\u001b[39mTrue\u001b[39;00m,\n\u001b[0;32m      7\u001b[0m             radius\u001b[39m=\u001b[39m\u001b[39m1.5\u001b[39m)\n",
      "\u001b[1;31mNameError\u001b[0m: name 'famille' is not defined"
     ]
    }
   ],
   "source": [
    "\n",
    "\n",
    "# print(np.full_like(0, 0, shape=len(famille)))\n",
    "famille.plot(kind='pie',\n",
    "            # explode=[0,0,0.2,0,0,0,0,0,0],\n",
    "            autopct=lambda x: '{:.0f}'.format(x*((famille.sum()/100)*100/famille.sum())) , \n",
    "            # labeldistance = 1.8,\n",
    "            shadow=True,\n",
    "            radius=1.5)"
   ]
  },
  {
   "cell_type": "markdown",
   "metadata": {},
   "source": [
    "## Item le plus populaire par catégorie "
   ]
  },
  {
   "cell_type": "code",
   "execution_count": 21,
   "metadata": {},
   "outputs": [
    {
     "data": {
      "text/html": [
       "<div>\n",
       "<style scoped>\n",
       "    .dataframe tbody tr th:only-of-type {\n",
       "        vertical-align: middle;\n",
       "    }\n",
       "\n",
       "    .dataframe tbody tr th {\n",
       "        vertical-align: top;\n",
       "    }\n",
       "\n",
       "    .dataframe thead th {\n",
       "        text-align: right;\n",
       "    }\n",
       "</style>\n",
       "<table border=\"1\" class=\"dataframe\">\n",
       "  <thead>\n",
       "    <tr style=\"text-align: right;\">\n",
       "      <th></th>\n",
       "      <th>FAMILLE</th>\n",
       "      <th>LIBELLE</th>\n",
       "      <th>VENTE</th>\n",
       "    </tr>\n",
       "  </thead>\n",
       "  <tbody>\n",
       "    <tr>\n",
       "      <th>0</th>\n",
       "      <td>CAPILLAIRES</td>\n",
       "      <td>SVC PURETE SH 300 ML</td>\n",
       "      <td>20105</td>\n",
       "    </tr>\n",
       "    <tr>\n",
       "      <th>1</th>\n",
       "      <td>HYGIENE</td>\n",
       "      <td>GD JDM4 LOTUS FL200ML</td>\n",
       "      <td>85914</td>\n",
       "    </tr>\n",
       "    <tr>\n",
       "      <th>2</th>\n",
       "      <td>MAQUILLAGE</td>\n",
       "      <td>PORTE MINE NOIR 01 CN3 0.3G</td>\n",
       "      <td>63371</td>\n",
       "    </tr>\n",
       "    <tr>\n",
       "      <th>3</th>\n",
       "      <td>MULTI FAMILLES</td>\n",
       "      <td>2010 KIT MAQ PDR</td>\n",
       "      <td>30</td>\n",
       "    </tr>\n",
       "    <tr>\n",
       "      <th>4</th>\n",
       "      <td>PARFUMAGE</td>\n",
       "      <td>FRAICHEUR CHEVREF EDC 125ML</td>\n",
       "      <td>40188</td>\n",
       "    </tr>\n",
       "    <tr>\n",
       "      <th>5</th>\n",
       "      <td>SANTE NATURELLE</td>\n",
       "      <td>SOIN COSM ORALE 3X10 CAPS RC2</td>\n",
       "      <td>1</td>\n",
       "    </tr>\n",
       "    <tr>\n",
       "      <th>6</th>\n",
       "      <td>SOINS DU CORPS</td>\n",
       "      <td>SVC CREME QUOTIDIENNE T75ml</td>\n",
       "      <td>72394</td>\n",
       "    </tr>\n",
       "    <tr>\n",
       "      <th>7</th>\n",
       "      <td>SOINS DU VISAGE</td>\n",
       "      <td>DEMAQ EXPRESS PUR BLEUET FL125ML</td>\n",
       "      <td>158762</td>\n",
       "    </tr>\n",
       "    <tr>\n",
       "      <th>8</th>\n",
       "      <td>SOLAIRES</td>\n",
       "      <td>LAIT 3EN1 PROTECTYL AP SOL FL150</td>\n",
       "      <td>61617</td>\n",
       "    </tr>\n",
       "  </tbody>\n",
       "</table>\n",
       "</div>"
      ],
      "text/plain": [
       "           FAMILLE                           LIBELLE   VENTE\n",
       "0      CAPILLAIRES              SVC PURETE SH 300 ML   20105\n",
       "1          HYGIENE             GD JDM4 LOTUS FL200ML   85914\n",
       "2       MAQUILLAGE       PORTE MINE NOIR 01 CN3 0.3G   63371\n",
       "3   MULTI FAMILLES                  2010 KIT MAQ PDR      30\n",
       "4        PARFUMAGE       FRAICHEUR CHEVREF EDC 125ML   40188\n",
       "5  SANTE NATURELLE     SOIN COSM ORALE 3X10 CAPS RC2       1\n",
       "6   SOINS DU CORPS       SVC CREME QUOTIDIENNE T75ml   72394\n",
       "7  SOINS DU VISAGE  DEMAQ EXPRESS PUR BLEUET FL125ML  158762\n",
       "8         SOLAIRES  LAIT 3EN1 PROTECTYL AP SOL FL150   61617"
      ]
     },
     "execution_count": 21,
     "metadata": {},
     "output_type": "execute_result"
    }
   ],
   "source": [
    "df.groupby('FAMILLE')['LIBELLE'].apply(lambda x: x.value_counts().head(1)).reset_index().rename(columns={\"level_1\": \"LIBELLE\", \"LIBELLE\": \"VENTE\"})"
   ]
  },
  {
   "cell_type": "markdown",
   "metadata": {},
   "source": [
    "## Prix moyen des items dans chaque catégorie"
   ]
  },
  {
   "cell_type": "code",
   "execution_count": 22,
   "metadata": {},
   "outputs": [
    {
     "data": {
      "text/plain": [
       "FAMILLE\n",
       "CAPILLAIRES         3.295194\n",
       "HYGIENE             2.211319\n",
       "MAQUILLAGE          5.905549\n",
       "MULTI FAMILLES      4.300000\n",
       "PARFUMAGE          12.986298\n",
       "SANTE NATURELLE    14.000000\n",
       "SOINS DU CORPS      4.856280\n",
       "SOINS DU VISAGE     6.399597\n",
       "SOLAIRES            6.899813\n",
       "Name: PRIX_NET, dtype: float64"
      ]
     },
     "execution_count": 22,
     "metadata": {},
     "output_type": "execute_result"
    }
   ],
   "source": [
    "df['PRIX_NET'] = df['PRIX_NET'].astype(int)\n",
    "df.groupby('FAMILLE')['PRIX_NET'].mean()"
   ]
  },
  {
   "cell_type": "markdown",
   "metadata": {},
   "source": [
    "## Ticket prix moyen dépensé"
   ]
  },
  {
   "cell_type": "code",
   "execution_count": 24,
   "metadata": {},
   "outputs": [
    {
     "data": {
      "text/plain": [
       "15.81677771395118"
      ]
     },
     "execution_count": 24,
     "metadata": {},
     "output_type": "execute_result"
    }
   ],
   "source": [
    "dfprix[\"PRIX_NET\"].mean()"
   ]
  },
  {
   "cell_type": "markdown",
   "metadata": {},
   "source": [
    "## Nombre moyen d'item par ticket"
   ]
  },
  {
   "cell_type": "code",
   "execution_count": 29,
   "metadata": {},
   "outputs": [
    {
     "data": {
      "text/plain": [
       "2.6493393948679285"
      ]
     },
     "execution_count": 29,
     "metadata": {},
     "output_type": "execute_result"
    }
   ],
   "source": [
    "df[\"TICKET_ID\"].value_counts().mean()"
   ]
  }
 ],
 "metadata": {
  "kernelspec": {
   "display_name": "Python 3.10.2 64-bit",
   "language": "python",
   "name": "python3"
  },
  "language_info": {
   "codemirror_mode": {
    "name": "ipython",
    "version": 3
   },
   "file_extension": ".py",
   "mimetype": "text/x-python",
   "name": "python",
   "nbconvert_exporter": "python",
   "pygments_lexer": "ipython3",
   "version": "3.10.2 (tags/v3.10.2:a58ebcc, Jan 17 2022, 14:12:15) [MSC v.1929 64 bit (AMD64)]"
  },
  "orig_nbformat": 4,
  "vscode": {
   "interpreter": {
    "hash": "cdf433682cbe9968d7764873f87164db8641effb758ebee62e489150bdf64f5a"
   }
  }
 },
 "nbformat": 4,
 "nbformat_minor": 2
}
